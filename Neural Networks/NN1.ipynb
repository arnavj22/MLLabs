{
  "nbformat": 4,
  "nbformat_minor": 0,
  "metadata": {
    "colab": {
      "provenance": []
    },
    "kernelspec": {
      "name": "python3",
      "display_name": "Python 3"
    },
    "language_info": {
      "name": "python"
    }
  },
  "cells": [
    {
      "cell_type": "code",
      "execution_count": null,
      "metadata": {
        "id": "SE4pZm5ngyJN"
      },
      "outputs": [],
      "source": [
        "# Arnav Jain Period 1 Yilmaz ML\n",
        "import random, time\n",
        "import numpy as np"
      ]
    },
    {
      "cell_type": "code",
      "source": [
        "def step(x):\n",
        "  return 1 if x >= 0 else 0"
      ],
      "metadata": {
        "id": "uIVjjxvDxNMi"
      },
      "execution_count": null,
      "outputs": []
    },
    {
      "cell_type": "code",
      "source": [
        "lr = 0.1\n",
        "epochs = 10"
      ],
      "metadata": {
        "id": "dgJNam0RxTF8"
      },
      "execution_count": null,
      "outputs": []
    },
    {
      "cell_type": "code",
      "source": [
        "def run(X_train, y_train):\n",
        "    start = time.time()\n",
        "    weights = [random.random()] * len(X_train[0])\n",
        "    bias = random.random()\n",
        "    for epoch in range(epochs):\n",
        "        for x_val, y_val in zip(X_train, y_train):\n",
        "          n = bias\n",
        "          for ind, i in enumerate(x_val):\n",
        "            n += weights[ind] * i\n",
        "          y_hat = step(n)\n",
        "          error = y_val - y_hat\n",
        "          for i in range(len(X_train[0])):\n",
        "            weights[i] = weights[i] + error * lr * x_val[i]\n",
        "          bias = bias + error * lr\n",
        "    end = time.time()\n",
        "    print(\"Training Time: \", end - start)\n",
        "    return weights, bias\n",
        "  \n",
        "def test(X, y, model):\n",
        "    weights, bias = model\n",
        "    y_pred = []\n",
        "\n",
        "    for x_val, y_val in zip(X, y):\n",
        "       n = bias\n",
        "       for ind, i in enumerate(x_val):\n",
        "         n += weights[ind] * i\n",
        "       y_hat = step(n)\n",
        "       y_pred.append(y_hat)\n",
        "    return y_pred\n",
        "\n"
      ],
      "metadata": {
        "id": "PYIzcd74q1Hf"
      },
      "execution_count": null,
      "outputs": []
    },
    {
      "cell_type": "code",
      "source": [
        "def gen_points(n = 100000):\n",
        "  #line: y = .5x + .5\n",
        "  X, y = [], []\n",
        "  for i in range(n):\n",
        "    X1, X2 = random.random(), random.random()\n",
        "    X.append([X1, X2])\n",
        "    y_hat = .5 * X1 + .5\n",
        "    if(X2 < y_hat):\n",
        "      y.append(1)\n",
        "    else:\n",
        "      y.append(0)\n",
        "  return X, y"
      ],
      "metadata": {
        "id": "5rj8BCs3wxbX"
      },
      "execution_count": null,
      "outputs": []
    },
    {
      "cell_type": "code",
      "source": [
        "X, y = gen_points()"
      ],
      "metadata": {
        "id": "IromRCYlsedh"
      },
      "execution_count": null,
      "outputs": []
    },
    {
      "cell_type": "code",
      "source": [
        "from sklearn.model_selection import train_test_split\n",
        "X_train, X_test, y_train, y_test = train_test_split(X, y)"
      ],
      "metadata": {
        "id": "XT0G8qtdxlc7"
      },
      "execution_count": null,
      "outputs": []
    },
    {
      "cell_type": "code",
      "source": [
        "model = run(X_train, y_train)\n",
        "preds = test(X_test, y_test, model)"
      ],
      "metadata": {
        "colab": {
          "base_uri": "https://localhost:8080/"
        },
        "id": "rgPsVrKuxZvC",
        "outputId": "7b8ae1b0-89e7-44e0-a5a3-c94d71c7970e"
      },
      "execution_count": null,
      "outputs": [
        {
          "output_type": "stream",
          "name": "stdout",
          "text": [
            "Training Time:  2.047403335571289\n"
          ]
        }
      ]
    },
    {
      "cell_type": "code",
      "source": [
        "from sklearn.metrics import accuracy_score\n",
        "print(accuracy_score(preds, y_test))"
      ],
      "metadata": {
        "colab": {
          "base_uri": "https://localhost:8080/"
        },
        "id": "nyoJP9GayP9r",
        "outputId": "645d2b92-423f-4bcc-cb60-b4d9a1918c2d"
      },
      "execution_count": null,
      "outputs": [
        {
          "output_type": "stream",
          "name": "stdout",
          "text": [
            "0.99688\n"
          ]
        }
      ]
    },
    {
      "cell_type": "code",
      "source": [
        "X_np = np.array(X_train)\n",
        "y_np = np.array(y_train)\n",
        "comb = np.concatenate([X_np, y_np[:, np.newaxis]], axis = 1)"
      ],
      "metadata": {
        "id": "73Y9sR56ecl0"
      },
      "execution_count": null,
      "outputs": []
    },
    {
      "cell_type": "code",
      "source": [
        "comb_blue = comb[comb[:, 2] == 1]\n",
        "comb_red = comb[comb[:, 2] == 0]"
      ],
      "metadata": {
        "id": "wTOSXiahgHtC"
      },
      "execution_count": null,
      "outputs": []
    },
    {
      "cell_type": "code",
      "source": [
        "import matplotlib.pyplot as plt\n",
        "plt.scatter(comb_blue[:, 0], comb_blue[:, 1], color = \"blue\")\n",
        "plt.scatter(comb_red[:, 0], comb_red[:, 1], color = \"red\")"
      ],
      "metadata": {
        "id": "N3MAB3XXynqv",
        "colab": {
          "base_uri": "https://localhost:8080/",
          "height": 448
        },
        "outputId": "76931061-d221-4761-dd13-fbdc2c75dec3"
      },
      "execution_count": null,
      "outputs": [
        {
          "output_type": "execute_result",
          "data": {
            "text/plain": [
              "<matplotlib.collections.PathCollection at 0x7fa713d91c40>"
            ]
          },
          "metadata": {},
          "execution_count": 12
        },
        {
          "output_type": "display_data",
          "data": {
            "text/plain": [
              "<Figure size 640x480 with 1 Axes>"
            ],
            "image/png": "[encoded data removed]"
          },
          "metadata": {}
        }
      ]
    },
    {
      "cell_type": "code",
      "source": [
        "import pandas as pd\n",
        "from google.colab import drive\n",
        "drive.mount('/content/drive')"
      ],
      "metadata": {
        "colab": {
          "base_uri": "https://localhost:8080/"
        },
        "id": "3BAQ3pKfeYTk",
        "outputId": "c93be415-bf8a-4569-a6a2-c4c041db7fbd"
      },
      "execution_count": null,
      "outputs": [
        {
          "output_type": "stream",
          "name": "stdout",
          "text": [
            "Drive already mounted at /content/drive; to attempt to forcibly remount, call drive.mount(\"/content/drive\", force_remount=True).\n"
          ]
        }
      ]
    },
    {
      "cell_type": "code",
      "source": [
        "iris_path = \"/content/drive/MyDrive/ML/Lab 8/iris.csv\"\n",
        "df = pd.read_csv(iris_path)"
      ],
      "metadata": {
        "id": "MSCkAyM8hR84"
      },
      "execution_count": null,
      "outputs": []
    },
    {
      "cell_type": "code",
      "source": [
        "y = df['variety']\n",
        "X = df.drop(['variety'], axis = 1)\n",
        "y.replace(['Versicolor', 'Virginica', 'Setosa'],\n",
        "                        [0, 1, 2], inplace=True)"
      ],
      "metadata": {
        "id": "TYsve3VzhUAu"
      },
      "execution_count": null,
      "outputs": []
    },
    {
      "cell_type": "code",
      "source": [
        "import sklearn\n",
        "from sklearn.model_selection import train_test_split\n",
        "X_train, X_test, y_train, y_test = train_test_split(X, y, test_size=0.2, random_state=0)\n",
        "X_train, X_test = X_train.to_numpy().tolist(), X_test.to_numpy().tolist()"
      ],
      "metadata": {
        "id": "YqSxx0DPhV_j"
      },
      "execution_count": null,
      "outputs": []
    },
    {
      "cell_type": "code",
      "source": [
        "def three_step(x):\n",
        "  if x < 0:\n",
        "    return 0\n",
        "  elif x < 1:\n",
        "    return 1\n",
        "  else:\n",
        "    return 2"
      ],
      "metadata": {
        "id": "jhfXri-pvbqh"
      },
      "execution_count": null,
      "outputs": []
    },
    {
      "cell_type": "code",
      "source": [
        "def run_iris(X_train, y_train):\n",
        "    start = time.time()\n",
        "    weights = [random.random()] * len(X_train[0])\n",
        "    bias = random.random()\n",
        "    for epoch in range(epochs):\n",
        "        for x_val, y_val in zip(X_train, y_train):\n",
        "          n = bias\n",
        "          for ind, i in enumerate(x_val):\n",
        "            n += weights[ind] * i\n",
        "          y_hat = three_step(n)\n",
        "          error = y_val - y_hat\n",
        "          for i in range(len(X_train[0])):\n",
        "            weights[i] = weights[i] + error * lr * x_val[i]\n",
        "          bias = bias + error * lr\n",
        "    end = time.time()\n",
        "    print(\"Training Time: \", end - start)\n",
        "    return weights, bias\n",
        "  \n",
        "def test_iris(X, y, model):\n",
        "    weights, bias = model\n",
        "    y_pred = []\n",
        "\n",
        "    for x_val, y_val in zip(X, y):\n",
        "       n = bias\n",
        "       for ind, i in enumerate(x_val):\n",
        "         n += weights[ind] * i\n",
        "       y_hat = three_step(n)\n",
        "       y_pred.append(y_hat)\n",
        "    return y_pred\n",
        "\n"
      ],
      "metadata": {
        "id": "AmKQVBNcpoSq"
      },
      "execution_count": null,
      "outputs": []
    },
    {
      "cell_type": "code",
      "source": [
        "\n",
        "model = run_iris(X_train, y_train)\n",
        "preds = test_iris(X_test, y_test, model)\n",
        "print(accuracy_score(preds, y_test))"
      ],
      "metadata": {
        "colab": {
          "base_uri": "https://localhost:8080/"
        },
        "id": "hnq7eN85vp8h",
        "outputId": "09e9a342-63f0-4cfd-fd97-b047cc656b79"
      },
      "execution_count": null,
      "outputs": [
        {
          "output_type": "stream",
          "name": "stdout",
          "text": [
            "Training Time:  0.009305715560913086\n",
            "0.4\n"
          ]
        }
      ]
    },
    {
      "cell_type": "code",
      "source": [
        "from sklearn.linear_model import Perceptron"
      ],
      "metadata": {
        "id": "SYqgw5YkhWbq"
      },
      "execution_count": null,
      "outputs": []
    },
    {
      "cell_type": "code",
      "source": [
        "model = Perceptron()\n",
        "model.fit(X_train, y_train)"
      ],
      "metadata": {
        "colab": {
          "base_uri": "https://localhost:8080/",
          "height": 75
        },
        "id": "VjUeZ5Ithk2P",
        "outputId": "3c434c39-a15c-44c3-dd69-e01b5a3415d7"
      },
      "execution_count": null,
      "outputs": [
        {
          "output_type": "execute_result",
          "data": {
            "text/plain": [
              "Perceptron()"
            ],
            "text/html": [
              "<style>#sk-container-id-1 {color: black;background-color: white;}#sk-container-id-1 pre{padding: 0;}#sk-container-id-1 div.sk-toggleable {background-color: white;}#sk-container-id-1 label.sk-toggleable__label {cursor: pointer;display: block;width: 100%;margin-bottom: 0;padding: 0.3em;box-sizing: border-box;text-align: center;}#sk-container-id-1 label.sk-toggleable__label-arrow:before {content: \"▸\";float: left;margin-right: 0.25em;color: #696969;}#sk-container-id-1 label.sk-toggleable__label-arrow:hover:before {color: black;}#sk-container-id-1 div.sk-estimator:hover label.sk-toggleable__label-arrow:before {color: black;}#sk-container-id-1 div.sk-toggleable__content {max-height: 0;max-width: 0;overflow: hidden;text-align: left;background-color: #f0f8ff;}#sk-container-id-1 div.sk-toggleable__content pre {margin: 0.2em;color: black;border-radius: 0.25em;background-color: #f0f8ff;}#sk-container-id-1 input.sk-toggleable__control:checked~div.sk-toggleable__content {max-height: 200px;max-width: 100%;overflow: auto;}#sk-container-id-1 input.sk-toggleable__control:checked~label.sk-toggleable__label-arrow:before {content: \"▾\";}#sk-container-id-1 div.sk-estimator input.sk-toggleable__control:checked~label.sk-toggleable__label {background-color: #d4ebff;}#sk-container-id-1 div.sk-label input.sk-toggleable__control:checked~label.sk-toggleable__label {background-color: #d4ebff;}#sk-container-id-1 input.sk-hidden--visually {border: 0;clip: rect(1px 1px 1px 1px);clip: rect(1px, 1px, 1px, 1px);height: 1px;margin: -1px;overflow: hidden;padding: 0;position: absolute;width: 1px;}#sk-container-id-1 div.sk-estimator {font-family: monospace;background-color: #f0f8ff;border: 1px dotted black;border-radius: 0.25em;box-sizing: border-box;margin-bottom: 0.5em;}#sk-container-id-1 div.sk-estimator:hover {background-color: #d4ebff;}#sk-container-id-1 div.sk-parallel-item::after {content: \"\";width: 100%;border-bottom: 1px solid gray;flex-grow: 1;}#sk-container-id-1 div.sk-label:hover label.sk-toggleable__label {background-color: #d4ebff;}#sk-container-id-1 div.sk-serial::before {content: \"\";position: absolute;border-left: 1px solid gray;box-sizing: border-box;top: 0;bottom: 0;left: 50%;z-index: 0;}#sk-container-id-1 div.sk-serial {display: flex;flex-direction: column;align-items: center;background-color: white;padding-right: 0.2em;padding-left: 0.2em;position: relative;}#sk-container-id-1 div.sk-item {position: relative;z-index: 1;}#sk-container-id-1 div.sk-parallel {display: flex;align-items: stretch;justify-content: center;background-color: white;position: relative;}#sk-container-id-1 div.sk-item::before, #sk-container-id-1 div.sk-parallel-item::before {content: \"\";position: absolute;border-left: 1px solid gray;box-sizing: border-box;top: 0;bottom: 0;left: 50%;z-index: -1;}#sk-container-id-1 div.sk-parallel-item {display: flex;flex-direction: column;z-index: 1;position: relative;background-color: white;}#sk-container-id-1 div.sk-parallel-item:first-child::after {align-self: flex-end;width: 50%;}#sk-container-id-1 div.sk-parallel-item:last-child::after {align-self: flex-start;width: 50%;}#sk-container-id-1 div.sk-parallel-item:only-child::after {width: 0;}#sk-container-id-1 div.sk-dashed-wrapped {border: 1px dashed gray;margin: 0 0.4em 0.5em 0.4em;box-sizing: border-box;padding-bottom: 0.4em;background-color: white;}#sk-container-id-1 div.sk-label label {font-family: monospace;font-weight: bold;display: inline-block;line-height: 1.2em;}#sk-container-id-1 div.sk-label-container {text-align: center;}#sk-container-id-1 div.sk-container {/* jupyter's `normalize.less` sets `[hidden] { display: none; }` but bootstrap.min.css set `[hidden] { display: none !important; }` so we also need the `!important` here to be able to override the default hidden behavior on the sphinx rendered scikit-learn.org. See: https://github.com/scikit-learn/scikit-learn/issues/21755 */display: inline-block !important;position: relative;}#sk-container-id-1 div.sk-text-repr-fallback {display: none;}</style><div id=\"sk-container-id-1\" class=\"sk-top-container\"><div class=\"sk-text-repr-fallback\"><pre>Perceptron()</pre><b>In a Jupyter environment, please rerun this cell to show the HTML representation or trust the notebook. <br />On GitHub, the HTML representation is unable to render, please try loading this page with nbviewer.org.</b></div><div class=\"sk-container\" hidden><div class=\"sk-item\"><div class=\"sk-estimator sk-toggleable\"><input class=\"sk-toggleable__control sk-hidden--visually\" id=\"sk-estimator-id-1\" type=\"checkbox\" checked><label for=\"sk-estimator-id-1\" class=\"sk-toggleable__label sk-toggleable__label-arrow\">Perceptron</label><div class=\"sk-toggleable__content\"><pre>Perceptron()</pre></div></div></div></div></div>"
            ]
          },
          "metadata": {},
          "execution_count": 21
        }
      ]
    },
    {
      "cell_type": "code",
      "source": [
        "preds = model.predict(X_test)\n",
        "print(accuracy_score(preds, y_test))"
      ],
      "metadata": {
        "colab": {
          "base_uri": "https://localhost:8080/"
        },
        "id": "nBzABhgThpIn",
        "outputId": "eb7f0bed-9d05-40a3-bca9-fe8a69b1a49e"
      },
      "execution_count": null,
      "outputs": [
        {
          "output_type": "stream",
          "name": "stdout",
          "text": [
            "0.5666666666666667\n"
          ]
        }
      ]
    },
    {
      "cell_type": "code",
      "source": [],
      "metadata": {
        "id": "L0pqf4zKh5jc"
      },
      "execution_count": null,
      "outputs": []
    }
  ]
}