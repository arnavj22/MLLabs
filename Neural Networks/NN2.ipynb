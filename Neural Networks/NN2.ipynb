{
  "nbformat": 4,
  "nbformat_minor": 0,
  "metadata": {
    "colab": {
      "provenance": []
    },
    "kernelspec": {
      "name": "python3",
      "display_name": "Python 3"
    },
    "language_info": {
      "name": "python"
    }
  },
  "cells": [
    {
      "cell_type": "code",
      "execution_count": null,
      "metadata": {
        "id": "SE4pZm5ngyJN"
      },
      "outputs": [],
      "source": [
        "# Arnav Jain Period 1 Yilmaz ML\n",
        "import random, time\n",
        "import numpy as np"
      ]
    },
    {
      "cell_type": "code",
      "source": [
        "def step(x):\n",
        "  return 1 if x >= 0 else 0"
      ],
      "metadata": {
        "id": "uIVjjxvDxNMi"
      },
      "execution_count": null,
      "outputs": []
    },
    {
      "cell_type": "code",
      "source": [
        "lr = 0.1\n",
        "epochs = 50"
      ],
      "metadata": {
        "id": "dgJNam0RxTF8"
      },
      "execution_count": null,
      "outputs": []
    },
    {
      "cell_type": "code",
      "source": [
        "def run(X_train, y_train):\n",
        "    start = time.time()\n",
        "    weights = [random.random()] * len(X_train[0])\n",
        "    bias = random.random()\n",
        "\n",
        "    for epoch in range(epochs):\n",
        "        for x_val, y_val in zip(X_train, y_train):\n",
        "          n = bias\n",
        "          for ind, i in enumerate(x_val):\n",
        "            n += weights[ind] * i\n",
        "          y_hat = step(n)\n",
        "          error = y_val - y_hat\n",
        "          for i in range(len(X_train[0])):\n",
        "            weights[i] = weights[i] + error * lr * x_val[i]\n",
        "          bias = bias + error * lr\n",
        "    end = time.time()\n",
        "    print(\"Training Time: \", end - start)\n",
        "    return weights, bias\n",
        "  \n",
        "def test(X, y, model):\n",
        "    weights, bias = model\n",
        "    y_pred = []\n",
        "    for i in range(len(X[0])):\n",
        "      print(f' x{i}', end = \" |\")\n",
        "    print(f' y_pred | y')\n",
        "\n",
        "\n",
        "    for x_val, y_val in zip(X, y):\n",
        "       n = bias\n",
        "       for ind, i in enumerate(x_val):\n",
        "         n += weights[ind] * i\n",
        "       y_hat = step(n)\n",
        "       y_pred.append(y_hat)\n",
        "\n",
        "       for i in x_val:\n",
        "         print(f' {i} ', end = \" |\")\n",
        "       print(f'  {y_hat}     | {y_val}')\n",
        "\n",
        "    #print(weights, bias, end = \"\\n\\n\")\n",
        "    print()\n"
      ],
      "metadata": {
        "id": "PYIzcd74q1Hf"
      },
      "execution_count": null,
      "outputs": []
    },
    {
      "cell_type": "code",
      "source": [
        "X_train = [[0, 0], [0, 1], [1, 0], [1, 1]]\n",
        "y_and = [0, 0, 0, 1]\n",
        "y_or = [0, 1, 1, 1]\n",
        "y_nand = [1, 0, 0, 0]"
      ],
      "metadata": {
        "id": "IromRCYlsedh"
      },
      "execution_count": null,
      "outputs": []
    },
    {
      "cell_type": "code",
      "source": [
        "model = run(X_train, y_and)\n",
        "test(X_train, y_and, model)\n",
        "\n",
        "model = run(X_train, y_or)\n",
        "test(X_train, y_or, model)\n",
        "\n",
        "model = run(X_train, y_nand)\n",
        "test(X_train, y_nand, model)"
      ],
      "metadata": {
        "colab": {
          "base_uri": "https://localhost:8080/"
        },
        "id": "rgPsVrKuxZvC",
        "outputId": "f40aab2f-6fd4-49cd-ae7e-f065d2bbb016"
      },
      "execution_count": null,
      "outputs": [
        {
          "output_type": "stream",
          "name": "stdout",
          "text": [
            "Training Time:  0.0004565715789794922\n",
            " x0 | x1 | y_pred | y\n",
            " 0  | 0  |  0     | 0\n",
            " 0  | 1  |  0     | 0\n",
            " 1  | 0  |  0     | 0\n",
            " 1  | 1  |  1     | 1\n",
            "\n",
            "Training Time:  0.0004439353942871094\n",
            " x0 | x1 | y_pred | y\n",
            " 0  | 0  |  0     | 0\n",
            " 0  | 1  |  1     | 1\n",
            " 1  | 0  |  1     | 1\n",
            " 1  | 1  |  1     | 1\n",
            "\n",
            "Training Time:  0.002094745635986328\n",
            " x0 | x1 | y_pred | y\n",
            " 0  | 0  |  1     | 1\n",
            " 0  | 1  |  0     | 0\n",
            " 1  | 0  |  0     | 0\n",
            " 1  | 1  |  0     | 0\n",
            "\n"
          ]
        }
      ]
    },
    {
      "cell_type": "code",
      "source": [
        "X_train3 = [[0, 0, 0], [0, 0, 1], [0, 1, 0], [0, 1, 1], [1, 0, 0], [1, 0, 1], [1, 1, 0], [1, 1, 1]]\n",
        "y_and3 = [0, 0, 0, 0, 0, 0, 0, 1]"
      ],
      "metadata": {
        "id": "O8fhRVocyAXx"
      },
      "execution_count": null,
      "outputs": []
    },
    {
      "cell_type": "code",
      "source": [
        "model = run(X_train3, y_and3)\n",
        "test(X_train3, y_and3, model)"
      ],
      "metadata": {
        "colab": {
          "base_uri": "https://localhost:8080/"
        },
        "id": "PEfkK3XB0rZR",
        "outputId": "a3e0b572-85e5-4b49-c444-244dd1424143"
      },
      "execution_count": null,
      "outputs": [
        {
          "output_type": "stream",
          "name": "stdout",
          "text": [
            "Training Time:  0.0010120868682861328\n",
            " x0 | x1 | x2 | y_pred | y\n",
            " 0  | 0  | 0  |  0     | 0\n",
            " 0  | 0  | 1  |  0     | 0\n",
            " 0  | 1  | 0  |  0     | 0\n",
            " 0  | 1  | 1  |  0     | 0\n",
            " 1  | 0  | 0  |  0     | 0\n",
            " 1  | 0  | 1  |  0     | 0\n",
            " 1  | 1  | 0  |  0     | 0\n",
            " 1  | 1  | 1  |  1     | 1\n",
            "\n"
          ]
        }
      ]
    },
    {
      "cell_type": "code",
      "source": [
        "def run_nor(X_train, y_train):\n",
        "    start = time.time()\n",
        "    weights = [[1, 1, 1, 1], [1, -1]]\n",
        "    bias = [[-1, -2], [-1]]\n",
        "    return weights, bias\n",
        "def run_xnor(X_train, y_train):\n",
        "    start = time.time()\n",
        "    weights = [[1, 1, 1, 1], [-1, 1]]\n",
        "    bias = [[-1, -2], [0]]\n",
        "    return weights, bias\n",
        "def test_nor(X, y, model):\n",
        "    weights, bias = model\n",
        "    y_pred = []\n",
        "    for i in range(len(X[0])):\n",
        "      print(f' x{i}', end = \" |\")\n",
        "    print(f' y_pred | y')\n",
        "    for x_val, y_val in zip(X, y):\n",
        "       h1 = step(bias[0][0] + weights[0][0] * x_val[0] + weights[0][1] * x_val[1])\n",
        "       h2 = step(bias[0][1] + weights[0][2] * x_val[0] + weights[0][3] * x_val[1])\n",
        "       n = h1 * weights[1][0] + h2 * weights[1][1] + bias[1][0]\n",
        "       y_hat = step(n)\n",
        "       y_pred.append(y_hat)\n",
        "\n",
        "       for i in x_val:\n",
        "         print(f' {i} ', end = \" |\")\n",
        "       print(f'  {y_hat}     | {y_val}')\n",
        "\n",
        "    #print(weights, bias, end = \"\\n\\n\")\n",
        "    print()\n"
      ],
      "metadata": {
        "id": "f2oejio60utk"
      },
      "execution_count": null,
      "outputs": []
    },
    {
      "cell_type": "code",
      "source": [
        "y_xor = [0, 1, 1, 0]\n",
        "y_xnor = [1, 0, 0, 1]\n",
        "\n",
        "model = run_nor(X_train, y_xor)\n",
        "test_nor(X_train, y_xor, model)\n",
        "\n",
        "model = run_xnor(X_train, y_xnor)\n",
        "test_nor(X_train, y_xnor, model)"
      ],
      "metadata": {
        "colab": {
          "base_uri": "https://localhost:8080/"
        },
        "id": "lGxf_BmI1G3Q",
        "outputId": "b4d33695-0b14-4ed0-896f-f388ad707220"
      },
      "execution_count": null,
      "outputs": [
        {
          "output_type": "stream",
          "name": "stdout",
          "text": [
            " x0 | x1 | y_pred | y\n",
            " 0  | 0  |  0     | 0\n",
            " 0  | 1  |  1     | 1\n",
            " 1  | 0  |  1     | 1\n",
            " 1  | 1  |  0     | 0\n",
            "\n",
            " x0 | x1 | y_pred | y\n",
            " 0  | 0  |  1     | 1\n",
            " 0  | 1  |  0     | 0\n",
            " 1  | 0  |  0     | 0\n",
            " 1  | 1  |  1     | 1\n",
            "\n"
          ]
        }
      ]
    },
    {
      "cell_type": "code",
      "source": [
        "def run_xnor4(X_train, y_train):\n",
        "    start = time.time()\n",
        "    weights = [[-1, -1, 0, 0, -1, -1, 0, 0, 0, 0, -1, -1, 0, 0, -1, -1, -1, 0, -1, 0, -1, 0, -1, 0], [-1, 1, 0, 0, 0, 0, 0, 0, -1, 1, 0, 0, 0, 0, 0, 0, -1, 1], [1, 1, 1]]\n",
        "    bias = [[1, 0, 1, 0, 1, 0], [0, 0, 0], [-3]]\n",
        "    return weights, bias\n",
        "def test_xnor4(X, y, model):\n",
        "    weights, bias = model\n",
        "    y_pred = []\n",
        "    for i in range(len(X[0])):\n",
        "      print(f' x{i}', end = \" |\")\n",
        "    print(f' y_pred | y')\n",
        "\n",
        "\n",
        "    for x_val, y_val in zip(X, y):\n",
        "       h = []\n",
        "       for i in range(6):\n",
        "         n = step(bias[0][i] + weights[0][i * 4] * x_val[0] + weights[0][i * 4 + 1] * x_val[1] + weights[0][i * 4 + 2] * x_val[2] + weights[0][i * 4 + 3] * x_val[3])\n",
        "         h.append(n)\n",
        "       for i in range(3):\n",
        "         n = step(bias[1][i] + weights[1][i * 6] * h[0] + weights[1][i * 6 + 1] * h[1]  + weights[1][i * 6 + 2] * h[2]  + weights[1][i * 6 + 3] * h[3]  + weights[1][i * 6 + 4] * h[4]  + weights[1][i * 6 + 5] * h[5])\n",
        "         h.append(n)\n",
        "       y_hat = step(bias[2][0] + h[6] * weights[2][0] + h[7] * weights[2][1] + h[8] * weights[2][2])\n",
        "       y_pred.append(y_hat)\n",
        "\n",
        "       for i in x_val:\n",
        "         print(f' {i} ', end = \" |\")\n",
        "       print(f'  {y_hat}     | {y_val}')\n",
        "\n",
        "    #print(weights, bias, end = \"\\n\\n\")\n",
        "    print()"
      ],
      "metadata": {
        "id": "37_E-krL1LU3"
      },
      "execution_count": null,
      "outputs": []
    },
    {
      "cell_type": "code",
      "source": [
        "X_train4 = [\n",
        "    [0, 0, 0, 0],\n",
        "    [0, 0, 0, 1],\n",
        "    [0, 0, 1, 0],\n",
        "    [0, 0, 1, 1],\n",
        "    [0, 1, 0, 0],\n",
        "    [0, 1, 0, 1],\n",
        "    [0, 1, 1, 0],\n",
        "    [0, 1, 1, 1],\n",
        "    [1, 0, 0, 0],\n",
        "    [1, 0, 0, 1],\n",
        "    [1, 0, 1, 0],\n",
        "    [1, 0, 1, 1],\n",
        "    [1, 1, 0, 0],\n",
        "    [1, 1, 0, 1],\n",
        "    [1, 1, 1, 0],\n",
        "    [1, 1, 1, 1]\n",
        "]\n",
        "y_xnor4 = [1, 0, 0, 0, 0, 0, 0, 0, 0, 0, 0, 0, 0, 0, 0, 1]\n",
        "\n",
        "\n",
        "model = run_xnor4(X_train4, y_xnor4)\n",
        "test_xnor4(X_train4, y_xnor4, model)"
      ],
      "metadata": {
        "colab": {
          "base_uri": "https://localhost:8080/"
        },
        "id": "kPnofx6Eb4b3",
        "outputId": "157b16d7-82fa-4473-a7c2-975912059c82"
      },
      "execution_count": null,
      "outputs": [
        {
          "output_type": "stream",
          "name": "stdout",
          "text": [
            " x0 | x1 | x2 | x3 | y_pred | y\n",
            " 0  | 0  | 0  | 0  |  1     | 1\n",
            " 0  | 0  | 0  | 1  |  0     | 0\n",
            " 0  | 0  | 1  | 0  |  0     | 0\n",
            " 0  | 0  | 1  | 1  |  0     | 0\n",
            " 0  | 1  | 0  | 0  |  0     | 0\n",
            " 0  | 1  | 0  | 1  |  0     | 0\n",
            " 0  | 1  | 1  | 0  |  0     | 0\n",
            " 0  | 1  | 1  | 1  |  0     | 0\n",
            " 1  | 0  | 0  | 0  |  0     | 0\n",
            " 1  | 0  | 0  | 1  |  0     | 0\n",
            " 1  | 0  | 1  | 0  |  0     | 0\n",
            " 1  | 0  | 1  | 1  |  0     | 0\n",
            " 1  | 1  | 0  | 0  |  0     | 0\n",
            " 1  | 1  | 0  | 1  |  0     | 0\n",
            " 1  | 1  | 1  | 0  |  0     | 0\n",
            " 1  | 1  | 1  | 1  |  1     | 1\n",
            "\n"
          ]
        }
      ]
    },
    {
      "cell_type": "code",
      "source": [
        "def run5(X_train, y_train):\n",
        "    start = time.time()\n",
        "    weights = [[-1, -1, 1, 1, -1, -1, 1, -1, 1, 1, -1, 1, 1, -1, -1, 1, -1, -1, -1, 1, 1, -1, 1, 1, 1, 1, 1, -1, -1, 1], [1, 1, 1, 1, 1, 1]]\n",
        "    bias = [[-2, -3, -2, -2, -4, -3], [-1]]\n",
        "    return weights, bias\n",
        "def test5(X, y, model):\n",
        "    weights, bias = model\n",
        "    y_pred = []\n",
        "    for i in range(len(X[0])):\n",
        "      print(f' x{i}', end = \" |\")\n",
        "    print(f' y_pred | y')\n",
        "\n",
        "\n",
        "    for x_val, y_val in zip(X, y):\n",
        "       h = []\n",
        "       for i in range(6):\n",
        "         n = step(bias[0][i] + weights[0][i * 5] * x_val[0] + weights[0][i * 5 + 1] * x_val[1] + weights[0][i * 5 + 2] * x_val[2] + weights[0][i * 5 + 3] * x_val[3] + weights[0][i * 5 + 4] * x_val[4])\n",
        "         h.append(n)\n",
        "       n = bias[1][0]\n",
        "       for i in range(6):\n",
        "         n += weights[1][i] * h[i]\n",
        "       y_hat = step(n)\n",
        "       y_pred.append(y_hat)\n",
        "\n",
        "       for i in x_val:\n",
        "         print(f' {i} ', end = \" |\")\n",
        "       print(f'  {y_hat}     | {y_val}')\n",
        "\n",
        "    #print(weights, bias, end = \"\\n\\n\")\n",
        "    print()"
      ],
      "metadata": {
        "id": "C-hBB3-Zebvk"
      },
      "execution_count": null,
      "outputs": []
    },
    {
      "cell_type": "code",
      "source": [
        "X_train5 = []\n",
        "y_train5 = []\n",
        "y_vals = [6, 11, 12, 17, 23, 25]\n",
        "for i in range(32):\n",
        "  X_train5.append(list(map(int, [*'{0:05b}'.format(i)])))\n",
        "  y_train5.append(1 if i in y_vals else 0)"
      ],
      "metadata": {
        "id": "Nr00Ry1Gf_H3"
      },
      "execution_count": null,
      "outputs": []
    },
    {
      "cell_type": "code",
      "source": [
        "model = run5(X_train5, y_train5)\n",
        "test5(X_train5, y_train5, model)"
      ],
      "metadata": {
        "colab": {
          "base_uri": "https://localhost:8080/"
        },
        "id": "_IMsIHrkf5Pi",
        "outputId": "1c06a583-1214-4374-9fd2-4d491f759f97"
      },
      "execution_count": null,
      "outputs": [
        {
          "output_type": "stream",
          "name": "stdout",
          "text": [
            " x0 | x1 | x2 | x3 | x4 | y_pred | y\n",
            " 0  | 0  | 0  | 0  | 0  |  0     | 0\n",
            " 0  | 0  | 0  | 0  | 1  |  0     | 0\n",
            " 0  | 0  | 0  | 1  | 0  |  0     | 0\n",
            " 0  | 0  | 0  | 1  | 1  |  0     | 0\n",
            " 0  | 0  | 1  | 0  | 0  |  0     | 0\n",
            " 0  | 0  | 1  | 0  | 1  |  0     | 0\n",
            " 0  | 0  | 1  | 1  | 0  |  1     | 1\n",
            " 0  | 0  | 1  | 1  | 1  |  0     | 0\n",
            " 0  | 1  | 0  | 0  | 0  |  0     | 0\n",
            " 0  | 1  | 0  | 0  | 1  |  0     | 0\n",
            " 0  | 1  | 0  | 1  | 0  |  0     | 0\n",
            " 0  | 1  | 0  | 1  | 1  |  1     | 1\n",
            " 0  | 1  | 1  | 0  | 0  |  1     | 1\n",
            " 0  | 1  | 1  | 0  | 1  |  0     | 0\n",
            " 0  | 1  | 1  | 1  | 0  |  0     | 0\n",
            " 0  | 1  | 1  | 1  | 1  |  0     | 0\n",
            " 1  | 0  | 0  | 0  | 0  |  0     | 0\n",
            " 1  | 0  | 0  | 0  | 1  |  1     | 1\n",
            " 1  | 0  | 0  | 1  | 0  |  0     | 0\n",
            " 1  | 0  | 0  | 1  | 1  |  0     | 0\n",
            " 1  | 0  | 1  | 0  | 0  |  0     | 0\n",
            " 1  | 0  | 1  | 0  | 1  |  0     | 0\n",
            " 1  | 0  | 1  | 1  | 0  |  0     | 0\n",
            " 1  | 0  | 1  | 1  | 1  |  1     | 1\n",
            " 1  | 1  | 0  | 0  | 0  |  0     | 0\n",
            " 1  | 1  | 0  | 0  | 1  |  1     | 1\n",
            " 1  | 1  | 0  | 1  | 0  |  0     | 0\n",
            " 1  | 1  | 0  | 1  | 1  |  0     | 0\n",
            " 1  | 1  | 1  | 0  | 0  |  0     | 0\n",
            " 1  | 1  | 1  | 0  | 1  |  0     | 0\n",
            " 1  | 1  | 1  | 1  | 0  |  0     | 0\n",
            " 1  | 1  | 1  | 1  | 1  |  0     | 0\n",
            "\n"
          ]
        }
      ]
    },
    {
      "cell_type": "code",
      "source": [],
      "metadata": {
        "id": "A0ElG1fkg8g8"
      },
      "execution_count": null,
      "outputs": []
    }
  ]
}